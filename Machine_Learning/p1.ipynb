{
 "cells": [
  {
   "cell_type": "markdown",
   "metadata": {},
   "source": [
    "**Machine Learning**\n",
    "\n",
    "Machine Learning is making the computer learn from studying data and statistics.\n",
    "\n",
    "Machine Learning is a program that analyses data and learns to predict the outcome.\n",
    "\n",
    "**Data Set**\n",
    "\n",
    "In the mind of a computer, a data set is any collection of data. It can be anything from an array to a complete database.\n"
   ]
  },
  {
   "cell_type": "markdown",
   "metadata": {},
   "source": [
    "**Data Types**\n",
    "To analyze data, it is important to know what type of data we are dealing with.\n",
    "\n",
    "We can split the data types into three main categories:\n",
    "\n",
    "1. **Numerical**\n",
    "\n",
    "2. **Categorical**\n",
    "\n",
    "3. **Ordinal**\n",
    "\n",
    "Numerical data are numbers, and can be split into two numerical categories:\n",
    "\n",
    "Discrete Data\n",
    "- numbers that are limited to integers. Example: The number of cars passing by.\n",
    "Continuous Data\n",
    "- numbers that are of infinite value. Example: The price of an item, or the size of an item\n",
    "Categorical data are values that cannot be measured up against each other. Example: a color value, or any yes/no values.\n",
    "\n",
    "Ordinal data are like categorical data, but can be measured up against each other. Example: school grades where A is better than B and so on.\n",
    "\n",
    "**Mean, Median, and Mode**\n",
    "\n",
    "What can we learn from looking at a group of numbers?\n",
    "\n",
    "In Machine Learning (and in mathematics) there are often three values that interests us:\n",
    "\n",
    "Mean - The average value\n",
    "\n",
    "Median - The mid point value\n",
    "\n",
    "Mode - The the most common value\n",
    "\n",
    "**Mean**\n",
    "\n",
    "The mean value is the average value.\n",
    "\n",
    "To calculate the mean, find the sum of all values, and dived the sum by the number of values:\n",
    "\n",
    "(99+86+87+88+111+86+103+87+94+78+77+85+86) / 13 = 89.77"
   ]
  },
  {
   "cell_type": "code",
   "execution_count": 3,
   "metadata": {},
   "outputs": [
    {
     "name": "stdout",
     "output_type": "stream",
     "text": [
      "89.76923076923077\n"
     ]
    }
   ],
   "source": [
    "import numpy\n",
    "speed = [99,86,87,88,111,86,103,87,94,78,77,85,86]\n",
    "x = numpy.mean(speed)\n",
    "print(x)"
   ]
  },
  {
   "cell_type": "markdown",
   "metadata": {},
   "source": [
    "**Median**\n",
    "The median value is the value in the middle, after you have sorted all the values:\n",
    "\n",
    "77, 78, 85, 86, 86, 86, **87**, 87, 88, 94, 99, 103, 111\n",
    "\n",
    "It is important that the numbers are sorted before you can find the median."
   ]
  },
  {
   "cell_type": "code",
   "execution_count": 5,
   "metadata": {},
   "outputs": [
    {
     "name": "stdout",
     "output_type": "stream",
     "text": [
      "87.0\n"
     ]
    }
   ],
   "source": [
    "import numpy\n",
    "speed = [99,86,87,88,111,86,103,87,94,78,77,85,86]\n",
    "x = numpy.median(speed)\n",
    "print(x)"
   ]
  },
  {
   "cell_type": "markdown",
   "metadata": {},
   "source": [
    "If there are two numbers in the middle, divide the sum of those numbers by two.\n",
    "\n",
    "77, 78, 85, 86, 86, 86, 87, 87, 94, 98, 99, 103\n",
    "\n",
    "(86 + 87) / 2 = 86.5\n",
    "\n",
    "**Mode**\n",
    "\n",
    "The Mode value is the value that appears the most number of times:\n",
    "\n",
    "99, **86**, 87, 88, 111, **86**, 103, 87, 94, 78, 77, 85, **86** = 86\n",
    "\n",
    "The SciPy module has a method for this:"
   ]
  },
  {
   "cell_type": "code",
   "execution_count": 6,
   "metadata": {},
   "outputs": [
    {
     "name": "stdout",
     "output_type": "stream",
     "text": [
      "ModeResult(mode=array([86]), count=array([3]))\n"
     ]
    }
   ],
   "source": [
    "from scipy import stats\n",
    "speed = [99,86,87,88,111,86,103,87,94,78,77,85,86]\n",
    "x = stats.mode(speed)\n",
    "print(x)"
   ]
  },
  {
   "cell_type": "code",
   "execution_count": null,
   "metadata": {},
   "outputs": [],
   "source": []
  }
 ],
 "metadata": {
  "kernelspec": {
   "display_name": "Python 3",
   "language": "python",
   "name": "python3"
  },
  "language_info": {
   "codemirror_mode": {
    "name": "ipython",
    "version": 3
   },
   "file_extension": ".py",
   "mimetype": "text/x-python",
   "name": "python",
   "nbconvert_exporter": "python",
   "pygments_lexer": "ipython3",
   "version": "3.7.3"
  }
 },
 "nbformat": 4,
 "nbformat_minor": 2
}
