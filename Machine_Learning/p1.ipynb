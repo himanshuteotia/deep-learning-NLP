{
 "cells": [
  {
   "cell_type": "markdown",
   "metadata": {},
   "source": [
    "**Machine Learning**\n",
    "\n",
    "Machine Learning is making the computer learn from studying data and statistics.\n",
    "\n",
    "Machine Learning is a program that analyses data and learns to predict the outcome.\n",
    "\n",
    "**Data Set**\n",
    "\n",
    "In the mind of a computer, a data set is any collection of data. It can be anything from an array to a complete database.\n"
   ]
  },
  {
   "cell_type": "markdown",
   "metadata": {},
   "source": [
    "**Data Types**\n",
    "To analyze data, it is important to know what type of data we are dealing with.\n",
    "\n",
    "We can split the data types into three main categories:\n",
    "\n",
    "1. **Numerical**\n",
    "\n",
    "2. **Categorical**\n",
    "\n",
    "3. **Ordinal**\n",
    "\n",
    "Numerical data are numbers, and can be split into two numerical categories:\n",
    "\n",
    "Discrete Data\n",
    "- numbers that are limited to integers. Example: The number of cars passing by.\n",
    "Continuous Data\n",
    "- numbers that are of infinite value. Example: The price of an item, or the size of an item\n",
    "Categorical data are values that cannot be measured up against each other. Example: a color value, or any yes/no values.\n",
    "\n",
    "Ordinal data are like categorical data, but can be measured up against each other. Example: school grades where A is better than B and so on."
   ]
  },
  {
   "cell_type": "code",
   "execution_count": null,
   "metadata": {},
   "outputs": [],
   "source": []
  }
 ],
 "metadata": {
  "kernelspec": {
   "display_name": "Python 3",
   "language": "python",
   "name": "python3"
  },
  "language_info": {
   "codemirror_mode": {
    "name": "ipython",
    "version": 3
   },
   "file_extension": ".py",
   "mimetype": "text/x-python",
   "name": "python",
   "nbconvert_exporter": "python",
   "pygments_lexer": "ipython3",
   "version": "3.7.3"
  }
 },
 "nbformat": 4,
 "nbformat_minor": 2
}
